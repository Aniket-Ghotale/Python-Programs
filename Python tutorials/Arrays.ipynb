{
 "cells": [
  {
   "cell_type": "code",
   "execution_count": 2,
   "metadata": {},
   "outputs": [
    {
     "name": "stdout",
     "output_type": "stream",
     "text": [
      "['ford', 'volvo', 'Bmw']\n"
     ]
    }
   ],
   "source": [
    "#Arrays \n",
    "#Arrays are used to store multiple value in single variable\n",
    "\n",
    "cars = [\"ford\",\"volvo\",\"Bmw\"]\n",
    "print(cars)"
   ]
  },
  {
   "cell_type": "code",
   "execution_count": 4,
   "metadata": {},
   "outputs": [
    {
     "name": "stdout",
     "output_type": "stream",
     "text": [
      "ford\n"
     ]
    }
   ],
   "source": [
    "# Access the elements of array\n",
    "# An array element by referring to the index number\n",
    "\n",
    "cars = [\"ford\",\"volvo\",\"Bmw\"]\n",
    "x = cars[0]\n",
    "print(x)\n",
    "\n"
   ]
  },
  {
   "cell_type": "code",
   "execution_count": 6,
   "metadata": {},
   "outputs": [
    {
     "name": "stdout",
     "output_type": "stream",
     "text": [
      "3\n"
     ]
    }
   ],
   "source": [
    "# The length of an array \n",
    "# Use the len() method to return the length of an array (the number of elements in an array).\n",
    "\n",
    "cars = [\"ford\",\"volvo\",\"Bmw\"]\n",
    "x = len(cars)\n",
    "print(x)"
   ]
  },
  {
   "cell_type": "code",
   "execution_count": 7,
   "metadata": {},
   "outputs": [
    {
     "name": "stdout",
     "output_type": "stream",
     "text": [
      "ford\n",
      "volvo\n",
      "Bmw\n"
     ]
    }
   ],
   "source": [
    "#Looping in array index\n",
    "\n",
    "cars = [\"ford\",\"volvo\",\"Bmw\"]\n",
    "for x in cars:\n",
    "    print(x)"
   ]
  },
  {
   "cell_type": "code",
   "execution_count": 9,
   "metadata": {},
   "outputs": [
    {
     "name": "stdout",
     "output_type": "stream",
     "text": [
      "['ford', 'volvo', 'Bmw', 'Jeep']\n"
     ]
    }
   ],
   "source": [
    "# Adding in array elements\n",
    "# use append() method\n",
    "\n",
    "cars = [\"ford\",\"volvo\",\"Bmw\"]\n",
    "cars.append(\"Jeep\")\n",
    "print(cars)"
   ]
  },
  {
   "cell_type": "code",
   "execution_count": 10,
   "metadata": {},
   "outputs": [
    {
     "name": "stdout",
     "output_type": "stream",
     "text": [
      "['ford', 'Bmw']\n"
     ]
    }
   ],
   "source": [
    "# Removing array elements\n",
    "# You can use the pop() method to remove an element from the array.\n",
    "\n",
    "cars = [\"ford\",\"volvo\",\"Bmw\"]\n",
    "cars.pop(1)\n",
    "print(cars)\n"
   ]
  },
  {
   "cell_type": "code",
   "execution_count": 11,
   "metadata": {},
   "outputs": [
    {
     "name": "stdout",
     "output_type": "stream",
     "text": [
      "['ford', 'volvo']\n"
     ]
    }
   ],
   "source": [
    "# You can also use the remove() method to remove an element from the array.\n",
    "\n",
    "cars = [\"ford\",\"volvo\",\"Bmw\"]\n",
    "cars.remove(\"Bmw\")\n",
    "print(cars)"
   ]
  },
  {
   "cell_type": "code",
   "execution_count": null,
   "metadata": {},
   "outputs": [],
   "source": []
  }
 ],
 "metadata": {
  "kernelspec": {
   "display_name": "Python 3",
   "language": "python",
   "name": "python3"
  },
  "language_info": {
   "codemirror_mode": {
    "name": "ipython",
    "version": 3
   },
   "file_extension": ".py",
   "mimetype": "text/x-python",
   "name": "python",
   "nbconvert_exporter": "python",
   "pygments_lexer": "ipython3",
   "version": "3.7.3"
  }
 },
 "nbformat": 4,
 "nbformat_minor": 2
}

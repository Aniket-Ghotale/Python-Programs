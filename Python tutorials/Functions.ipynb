{
 "cells": [
  {
   "cell_type": "code",
   "execution_count": 2,
   "metadata": {},
   "outputs": [
    {
     "name": "stdout",
     "output_type": "stream",
     "text": [
      "Hello, Aniket!\n"
     ]
    }
   ],
   "source": [
    "# functions \n",
    "#A function is a block of code which only runs when it is called.\n",
    "def my_function():\n",
    "    print(\"Hello, Aniket!\")\n",
    "my_function()"
   ]
  },
  {
   "cell_type": "code",
   "execution_count": 4,
   "metadata": {},
   "outputs": [
    {
     "name": "stdout",
     "output_type": "stream",
     "text": [
      "Email_id Aniket\n",
      "Class Aniket\n",
      "IT Profession Aniket\n"
     ]
    }
   ],
   "source": [
    "#Parameters\n",
    "#Information can be passed to functions as parameter.\n",
    "def my_function(fname):\n",
    "    print(fname + \"Aniket\")\n",
    "my_function(\"Email_id \")\n",
    "my_function(\"Class \")\n",
    "my_function(\"IT Profession \")"
   ]
  },
  {
   "cell_type": "code",
   "execution_count": 10,
   "metadata": {},
   "outputs": [
    {
     "name": "stdout",
     "output_type": "stream",
     "text": [
      "I am from Latur \n",
      "I am from Mumbai \n",
      "I am from Maharashtra\n"
     ]
    }
   ],
   "source": [
    "#Default Parameter Value\n",
    "#The following example shows how to use a default parameter value.\n",
    "\n",
    "#If we call the function without parameter, it uses the default value:\n",
    "\n",
    "def my_function(country = \"Maharashtra\"):\n",
    "    print(\"I am from \" + country)\n",
    "    \n",
    "my_function(\"Latur \")\n",
    "my_function(\"Mumbai \")\n",
    "my_function()"
   ]
  },
  {
   "cell_type": "code",
   "execution_count": 12,
   "metadata": {},
   "outputs": [
    {
     "name": "stdout",
     "output_type": "stream",
     "text": [
      "Apple\n",
      "Banana\n",
      "Cherry\n"
     ]
    }
   ],
   "source": [
    "#Passing List as a parameter\n",
    "#You can send any data types of parameter to a function (string, number, list, dictionary etc.), and it will be \n",
    "#treated as the same data type inside the function.\n",
    "def my_function(food):\n",
    "    for x in food:\n",
    "     print(x)\n",
    "fruits = [\"Apple\",\"Banana\",\"Cherry\"]\n",
    "my_function(fruits)\n"
   ]
  },
  {
   "cell_type": "code",
   "execution_count": 14,
   "metadata": {
    "scrolled": true
   },
   "outputs": [
    {
     "name": "stdout",
     "output_type": "stream",
     "text": [
      "15\n",
      "20\n"
     ]
    }
   ],
   "source": [
    "# Return Values\n",
    "# To let a function return a value, use the return statement:\n",
    "def my_function(x):\n",
    "    return 5 * x\n",
    "print(my_function(3))\n",
    "print(my_function(4))"
   ]
  },
  {
   "cell_type": "code",
   "execution_count": 15,
   "metadata": {},
   "outputs": [
    {
     "name": "stdout",
     "output_type": "stream",
     "text": [
      "\n",
      "\n",
      "Recursion Example Results\n",
      "1\n",
      "3\n",
      "6\n",
      "10\n",
      "15\n",
      "21\n"
     ]
    },
    {
     "data": {
      "text/plain": [
       "21"
      ]
     },
     "execution_count": 15,
     "metadata": {},
     "output_type": "execute_result"
    }
   ],
   "source": [
    "# Recursion\n",
    "# Python also accepts function recursion, which means a defined function can call itself.\n",
    "def tri_recursion(k):\n",
    "  if(k>0):\n",
    "    result = k+tri_recursion(k-1)\n",
    "    print(result)\n",
    "  else:\n",
    "    result = 0\n",
    "  return result\n",
    "\n",
    "print(\"\\n\\nRecursion Example Results\")\n",
    "tri_recursion(6)"
   ]
  },
  {
   "cell_type": "code",
   "execution_count": null,
   "metadata": {},
   "outputs": [],
   "source": []
  }
 ],
 "metadata": {
  "kernelspec": {
   "display_name": "Python 3",
   "language": "python",
   "name": "python3"
  },
  "language_info": {
   "codemirror_mode": {
    "name": "ipython",
    "version": 3
   },
   "file_extension": ".py",
   "mimetype": "text/x-python",
   "name": "python",
   "nbconvert_exporter": "python",
   "pygments_lexer": "ipython3",
   "version": "3.7.3"
  }
 },
 "nbformat": 4,
 "nbformat_minor": 2
}

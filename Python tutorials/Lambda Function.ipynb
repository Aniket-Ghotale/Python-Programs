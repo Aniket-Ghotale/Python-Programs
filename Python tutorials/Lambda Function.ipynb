{
 "cells": [
  {
   "cell_type": "code",
   "execution_count": 4,
   "metadata": {},
   "outputs": [
    {
     "name": "stdout",
     "output_type": "stream",
     "text": [
      "15\n"
     ]
    }
   ],
   "source": [
    "# Lambda Function\n",
    "# A lambda function is a small anonymous function.\n",
    "# A lambda function can take any number of arguments, but can only have one expression.\n",
    "\n",
    "x = lambda a: a + 10\n",
    "print(x(5))"
   ]
  },
  {
   "cell_type": "code",
   "execution_count": 5,
   "metadata": {},
   "outputs": [
    {
     "name": "stdout",
     "output_type": "stream",
     "text": [
      "15\n"
     ]
    }
   ],
   "source": [
    "# Example\n",
    "# A lambda function that multiplies argument a with argument b and print the result:\n",
    "\n",
    "x = lambda a ,b : a + b\n",
    "\n",
    "print(x(10,5))"
   ]
  },
  {
   "cell_type": "code",
   "execution_count": 6,
   "metadata": {},
   "outputs": [
    {
     "name": "stdout",
     "output_type": "stream",
     "text": [
      "45\n"
     ]
    }
   ],
   "source": [
    "# Example\n",
    "# A lambda function that sums argument a, b, and c and print the result:\n",
    "\n",
    "x = lambda a , b ,c: a + b + c\n",
    "\n",
    "print(x(20,15,10))"
   ]
  },
  {
   "cell_type": "code",
   "execution_count": 9,
   "metadata": {},
   "outputs": [
    {
     "name": "stdout",
     "output_type": "stream",
     "text": [
      "8\n"
     ]
    }
   ],
   "source": [
    "# Use that function definition to make a function that always doubles the number you send in:\n",
    "\n",
    "def function(n):\n",
    "    return lambda a: a * n\n",
    "\n",
    "mydoubler = function(2)\n",
    "\n",
    "print(mydoubler(4))\n",
    "\n"
   ]
  },
  {
   "cell_type": "code",
   "execution_count": 10,
   "metadata": {},
   "outputs": [
    {
     "name": "stdout",
     "output_type": "stream",
     "text": [
      "12\n"
     ]
    }
   ],
   "source": [
    "# use the same function definition to make a function that always triples the number you send in:\n",
    "\n",
    "def function(n):\n",
    "    return lambda a : a * n\n",
    "\n",
    "mytripler = function (3)\n",
    "\n",
    "print(mytripler(4))"
   ]
  },
  {
   "cell_type": "code",
   "execution_count": 12,
   "metadata": {},
   "outputs": [
    {
     "name": "stdout",
     "output_type": "stream",
     "text": [
      "22\n",
      "33\n"
     ]
    }
   ],
   "source": [
    "# use the same function definition to make both functions, in the same program:\n",
    "def function(n):\n",
    "    return lambda a : a * n \n",
    "\n",
    "mydoubler = function (2)\n",
    "mytriler = function (3)\n",
    "\n",
    "print(mydoubler(11))\n",
    "print(mytriler(11))"
   ]
  },
  {
   "cell_type": "code",
   "execution_count": null,
   "metadata": {},
   "outputs": [],
   "source": []
  }
 ],
 "metadata": {
  "kernelspec": {
   "display_name": "Python 3",
   "language": "python",
   "name": "python3"
  },
  "language_info": {
   "codemirror_mode": {
    "name": "ipython",
    "version": 3
   },
   "file_extension": ".py",
   "mimetype": "text/x-python",
   "name": "python",
   "nbconvert_exporter": "python",
   "pygments_lexer": "ipython3",
   "version": "3.7.3"
  }
 },
 "nbformat": 4,
 "nbformat_minor": 2
}

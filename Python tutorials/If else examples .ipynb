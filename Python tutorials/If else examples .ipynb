{
 "cells": [
  {
   "cell_type": "code",
   "execution_count": 5,
   "metadata": {
    "scrolled": true
   },
   "outputs": [
    {
     "name": "stdout",
     "output_type": "stream",
     "text": [
      "a is less than b\n"
     ]
    }
   ],
   "source": [
    "# if..else statement\n",
    "#These conditions can be used in several ways, most commonly in \"if statements\" and loops.\n",
    "a = 20\n",
    "b = 30\n",
    "if a < b :\n",
    "    print(\"a is less than b\")"
   ]
  },
  {
   "cell_type": "code",
   "execution_count": 9,
   "metadata": {},
   "outputs": [
    {
     "name": "stdout",
     "output_type": "stream",
     "text": [
      "a and b are equals\n"
     ]
    }
   ],
   "source": [
    "# elif\n",
    "# The elif keyword is pythons way of saying \"if the previous conditions were not true, then try this condition\".\n",
    "a = 30\n",
    "b = 30\n",
    "if b > a :\n",
    "    print(\"b is greater than a\")\n",
    "elif a == b :\n",
    "        print(\"a and b are equals\")"
   ]
  },
  {
   "cell_type": "code",
   "execution_count": 18,
   "metadata": {},
   "outputs": [
    {
     "name": "stdout",
     "output_type": "stream",
     "text": [
      "a is greater than b\n"
     ]
    }
   ],
   "source": [
    "#else\n",
    "#The else keyword catches anything which isn't caught by the preceding conditions.\n",
    "\n",
    "a = 200\n",
    "b = 30\n",
    "if b > a :\n",
    "    print(\"b is greater than a\")\n",
    "elif b == a :\n",
    "    print(\" b and a are equals\")\n",
    "else :\n",
    "    print(\"a is greater than b\")"
   ]
  },
  {
   "cell_type": "code",
   "execution_count": 21,
   "metadata": {},
   "outputs": [
    {
     "name": "stdout",
     "output_type": "stream",
     "text": [
      "both conditions are true\n"
     ]
    }
   ],
   "source": [
    "#And\n",
    "#The and keyword is a logical operator, and is used to combine conditional statements:\n",
    "\n",
    "a = 20\n",
    "b = 30\n",
    "c = 40\n",
    "if a < b and c > b :\n",
    "    print(\"both conditions are true\")"
   ]
  },
  {
   "cell_type": "code",
   "execution_count": 26,
   "metadata": {},
   "outputs": [
    {
     "name": "stdout",
     "output_type": "stream",
     "text": [
      "Atleast one conditions are true\n"
     ]
    }
   ],
   "source": [
    "#Or\n",
    "#The or keyword is a logical operator, and is used to combine conditional statements:\n",
    "\n",
    "\n",
    "a = 20\n",
    "b = 30\n",
    "c = 40\n",
    "if a > b or c > b :\n",
    "    print(\"Atleast one conditions are true\")"
   ]
  },
  {
   "cell_type": "code",
   "execution_count": null,
   "metadata": {},
   "outputs": [],
   "source": []
  }
 ],
 "metadata": {
  "kernelspec": {
   "display_name": "Python 3",
   "language": "python",
   "name": "python3"
  },
  "language_info": {
   "codemirror_mode": {
    "name": "ipython",
    "version": 3
   },
   "file_extension": ".py",
   "mimetype": "text/x-python",
   "name": "python",
   "nbconvert_exporter": "python",
   "pygments_lexer": "ipython3",
   "version": "3.7.3"
  }
 },
 "nbformat": 4,
 "nbformat_minor": 2
}
